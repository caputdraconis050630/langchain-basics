{
 "cells": [
  {
   "cell_type": "code",
   "execution_count": 1,
   "metadata": {},
   "outputs": [],
   "source": [
    "from langchain_ollama import ChatOllama\n",
    "\n",
    "llm = ChatOllama(model=\"llama3.2:1b\", temperature=0.0)"
   ]
  },
  {
   "cell_type": "code",
   "execution_count": 4,
   "metadata": {},
   "outputs": [],
   "source": [
    "from langchain_core.prompts import PromptTemplate\n",
    "from langchain_core.output_parsers import StrOutputParser\n",
    "\n",
    "food_prompt = PromptTemplate(\n",
    "    template=\"\"\"what is one of the most popular food in {country}?\n",
    "    IMPORTANT: Return the name of the food only.\n",
    "    \"\"\",\n",
    "    input_variables=[\"country\"],\n",
    ")\n",
    "\n",
    "food_chain = food_prompt | llm | StrOutputParser()"
   ]
  },
  {
   "cell_type": "code",
   "execution_count": 5,
   "metadata": {},
   "outputs": [
    {
     "data": {
      "text/plain": [
       "'Bibimbap.'"
      ]
     },
     "execution_count": 5,
     "metadata": {},
     "output_type": "execute_result"
    }
   ],
   "source": [
    "food_chain.invoke({\"country\": \"Korea\"})"
   ]
  },
  {
   "cell_type": "code",
   "execution_count": null,
   "metadata": {},
   "outputs": [
    {
     "data": {
      "text/plain": [
       "\"Here's a step-by-step guide to making Bibimbap, a popular Korean rice bowl dish:\\n\\n**Ingredients:**\\n\\nFor the bibimbap rice:\\n\\n* 1 cup of short-grain white rice (Korean-style or Japanese-style)\\n* 2 cups of water\\n* 1 tablespoon of sesame oil\\n* Salt, to taste\\n\\nFor the vegetables:\\n\\n* 1/2 cup of bean sprouts\\n* 1/2 cup of shredded zucchini\\n* 1/4 cup of diced carrots\\n* 1/4 cup of diced cucumber\\n* 1/4 cup of diced green onions (scallions)\\n* 1/4 cup of diced mushrooms (optional)\\n\\nFor the fried egg:\\n\\n* 1 egg, beaten\\n* Salt and pepper, to taste\\n\\nFor the sauce:\\n\\n* 2 tablespoons of soy sauce\\n* 2 tablespoons of Gochujang (Korean chili paste)\\n* 2 tablespoons of rice vinegar\\n* 1 tablespoon of sugar\\n* 1 teaspoon of grated ginger\\n* 1/4 teaspoon of red pepper flakes (optional)\\n\\n**Instructions:**\\n\\n**Step 1: Prepare the bibimbap rice**\\n\\n1. Rinse the rice in a fine mesh strainer until the water runs clear.\\n2. In a medium saucepan, combine the rinsed rice and 2 cups of water.\\n3. Bring to a boil over high heat, then reduce the heat to low, cover, and simmer for 15-20 minutes or until the water is absorbed and the rice is cooked.\\n4. Fluff the rice with a fork and stir in sesame oil, salt.\\n\\n**Step 2: Prepare the vegetables**\\n\\n1. Cut the bean sprouts, zucchini, carrots, cucumber, and green onions into bite-sized pieces.\\n2. If using mushrooms, slice them thinly.\\n\\n**Step 3: Fry the egg**\\n\\n1. Heat a non-stick pan over medium heat.\\n2. Add the beaten egg and cook until the whites are set and the yolks are cooked to your desired doneness.\\n3. Season with salt and pepper to taste.\\n\\n**Step 4: Assemble the bibimbap**\\n\\n1. Divide the cooked rice into four bowls.\\n2. Arrange a portion of vegetables on top of the rice in each bowl.\\n3. Place a fried egg on top of the vegetables.\\n4. Drizzle the sauce over the egg and vegetables.\\n\\n**Step 5: Serve and enjoy!**\\n\\n1. Garnish with additional green onions, if desired.\\n2. Serve immediately and enjoy!\\n\\nNote: You can customize your bibimbap to your liking by adding other ingredients such as diced bell peppers, sliced hot dogs, or pickled ginger.\""
      ]
     },
     "execution_count": 7,
     "metadata": {},
     "output_type": "execute_result"
    }
   ],
   "source": [
    "from langchain_core.prompts import ChatPromptTemplate\n",
    "\n",
    "recipe_prompt = ChatPromptTemplate.from_messages([\n",
    "    (\"system\", \"You are a helpful assistant that can answer questions about the recipe of food.\"),\n",
    "    (\"human\", \"{food}\"),\n",
    "])\n",
    "\n",
    "recipe_chain = food_chain | recipe_prompt | llm | StrOutputParser()\n",
    "recipe_chain.invoke({\"country\": \"Korea\"})"
   ]
  },
  {
   "cell_type": "code",
   "execution_count": null,
   "metadata": {},
   "outputs": [],
   "source": []
  }
 ],
 "metadata": {
  "kernelspec": {
   "display_name": "langchain-basics",
   "language": "python",
   "name": "python3"
  },
  "language_info": {
   "codemirror_mode": {
    "name": "ipython",
    "version": 3
   },
   "file_extension": ".py",
   "mimetype": "text/x-python",
   "name": "python",
   "nbconvert_exporter": "python",
   "pygments_lexer": "ipython3",
   "version": "3.8.20"
  }
 },
 "nbformat": 4,
 "nbformat_minor": 2
}
