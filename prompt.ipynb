{
 "cells": [
  {
   "cell_type": "code",
   "execution_count": 1,
   "metadata": {},
   "outputs": [
    {
     "data": {
      "text/plain": [
       "AIMessage(content='The capital of France is Paris.', response_metadata={'model': 'llama3.2:1b', 'created_at': '2025-07-02T03:09:31.280473Z', 'done': True, 'done_reason': 'stop', 'total_duration': 3843910000, 'load_duration': 1126334833, 'prompt_eval_count': 32, 'prompt_eval_duration': 2491772875, 'eval_count': 8, 'eval_duration': 220902709, 'message': Message(role='assistant', content='', thinking=None, images=None, tool_calls=None)}, id='run-9536d41e-e25b-4a7e-997c-8ee9d64bb2d9-0', usage_metadata={'input_tokens': 32, 'output_tokens': 8, 'total_tokens': 40})"
      ]
     },
     "execution_count": 1,
     "metadata": {},
     "output_type": "execute_result"
    }
   ],
   "source": [
    "from langchain_ollama import ChatOllama\n",
    "\n",
    "llm = ChatOllama(model=\"llama3.2:1b\")\n",
    "\n",
    "llm.invoke(\"What is the capital of France?\")"
   ]
  },
  {
   "cell_type": "code",
   "execution_count": 3,
   "metadata": {},
   "outputs": [
    {
     "data": {
      "text/plain": [
       "AIMessage(content='The capital of France is Paris.', response_metadata={'model': 'llama3.2:1b', 'created_at': '2025-07-02T03:16:19.128785Z', 'done': True, 'done_reason': 'stop', 'total_duration': 3323973709, 'load_duration': 842234250, 'prompt_eval_count': 32, 'prompt_eval_duration': 2265717250, 'eval_count': 8, 'eval_duration': 214305583, 'message': Message(role='assistant', content='', thinking=None, images=None, tool_calls=None)}, id='run-14f2828d-481e-4599-9546-5c044c95c446-0', usage_metadata={'input_tokens': 32, 'output_tokens': 8, 'total_tokens': 40})"
      ]
     },
     "execution_count": 3,
     "metadata": {},
     "output_type": "execute_result"
    }
   ],
   "source": [
    "# 프롬프트 템플릿?\n",
    "from langchain_core.prompts import PromptTemplate\n",
    "\n",
    "prompt_template = PromptTemplate(\n",
    "    input_variables=[\"country\"],\n",
    "    template=\"What is the capital of {country}?\",\n",
    ")\n",
    "\n",
    "llm.invoke(prompt_template.invoke({\"country\": \"France\"}))"
   ]
  },
  {
   "cell_type": "code",
   "execution_count": null,
   "metadata": {},
   "outputs": [
    {
     "data": {
      "text/plain": [
       "AIMessage(content='The capital of France is Paris.', response_metadata={'model': 'llama3.2:1b', 'created_at': '2025-07-02T03:24:25.954802Z', 'done': True, 'done_reason': 'stop', 'total_duration': 3278235792, 'load_duration': 841272875, 'prompt_eval_count': 32, 'prompt_eval_duration': 2225060917, 'eval_count': 8, 'eval_duration': 210298333, 'message': Message(role='assistant', content='', thinking=None, images=None, tool_calls=None)}, id='run-25eb4a9c-c85f-42cb-89fb-9324c283dbd4-0', usage_metadata={'input_tokens': 32, 'output_tokens': 8, 'total_tokens': 40})"
      ]
     },
     "execution_count": 5,
     "metadata": {},
     "output_type": "execute_result"
    }
   ],
   "source": [
    "# Human Message\n",
    "from langchain_core.messages import HumanMessage, SystemMessage\n",
    "\n",
    "message = HumanMessage(content=\"What is the capital of France?\")\n",
    "system = SystemMessage(content=\"You are a helpful assistant that can answer questions about the capital of countries.\")\n",
    "\n",
    "llm.invoke([system, message])\n"
   ]
  },
  {
   "cell_type": "code",
   "execution_count": null,
   "metadata": {},
   "outputs": [],
   "source": []
  }
 ],
 "metadata": {
  "kernelspec": {
   "display_name": "langchain-basics",
   "language": "python",
   "name": "python3"
  },
  "language_info": {
   "codemirror_mode": {
    "name": "ipython",
    "version": 3
   },
   "file_extension": ".py",
   "mimetype": "text/x-python",
   "name": "python",
   "nbconvert_exporter": "python",
   "pygments_lexer": "ipython3",
   "version": "3.8.20"
  }
 },
 "nbformat": 4,
 "nbformat_minor": 2
}
